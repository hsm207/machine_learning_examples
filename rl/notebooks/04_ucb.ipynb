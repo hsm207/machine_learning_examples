{
 "cells": [
  {
   "cell_type": "code",
   "execution_count": null,
   "metadata": {},
   "outputs": [],
   "source": [
    "%cd ..\n",
    "%load_ext autoreload\n",
    "%autoreload 2"
   ]
  },
  {
   "cell_type": "code",
   "execution_count": null,
   "metadata": {},
   "outputs": [],
   "source": [
    "from ucb1 import *\n",
    "from ipywidgets import interact_manual, fixed"
   ]
  },
  {
   "cell_type": "markdown",
   "metadata": {},
   "source": [
    "In this example, each bandit's reward is 0 or 1.\n",
    "\n",
    "The UCB method uses the following formula to select which bandit, $j$, to play:\n",
    "\n",
    "<img src=\"https://i.ibb.co/56v1KMg/ucb-formula.png\" alt=\"ucb-formula\" border=\"0\">\n",
    "\n",
    "The constant 2 is a hyperparameter we will call $h$."
   ]
  },
  {
   "cell_type": "code",
   "execution_count": null,
   "metadata": {},
   "outputs": [],
   "source": [
    "interact_manual(run_experiment, \n",
    "                h = (0, 100, 1), \n",
    "                num_trials = fixed(100000),\n",
    "                eps = fixed(0),\n",
    "                bandit_probabilities = fixed([0.2, 0.5, 0.75]))"
   ]
  },
  {
   "cell_type": "markdown",
   "metadata": {},
   "source": [
    "**Conclusion**\n",
    "* The higher the $h$, the more exploration is done but estimate's of true win rate for each bandit is just as accurate."
   ]
  }
 ],
 "metadata": {
  "kernelspec": {
   "display_name": "Python 3",
   "language": "python",
   "name": "python3"
  },
  "language_info": {
   "codemirror_mode": {
    "name": "ipython",
    "version": 3
   },
   "file_extension": ".py",
   "mimetype": "text/x-python",
   "name": "python",
   "nbconvert_exporter": "python",
   "pygments_lexer": "ipython3",
   "version": "3.7.6"
  }
 },
 "nbformat": 4,
 "nbformat_minor": 4
}
