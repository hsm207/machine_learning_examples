{
 "cells": [
  {
   "cell_type": "code",
   "execution_count": 1,
   "metadata": {},
   "outputs": [],
   "source": [
    "%load_ext autoreload\n",
    "%autoreload 2"
   ]
  },
  {
   "cell_type": "code",
   "execution_count": 2,
   "metadata": {},
   "outputs": [
    {
     "name": "stdout",
     "output_type": "stream",
     "text": [
      "/workspaces/machine_learning_examples/rl\n"
     ]
    }
   ],
   "source": [
    "%cd .."
   ]
  },
  {
   "cell_type": "code",
   "execution_count": 3,
   "metadata": {},
   "outputs": [],
   "source": [
    "from comparing_epsilons import *\n",
    "from ipywidgets import interact, interactive, fixed, interact_manual\n",
    "import ipywidgets as widgets"
   ]
  },
  {
   "cell_type": "markdown",
   "metadata": {},
   "source": [
    "In this example the rewards of each bandit follows a normal distribution with a given mean and standard deviation 1."
   ]
  },
  {
   "cell_type": "code",
   "execution_count": 4,
   "metadata": {},
   "outputs": [
    {
     "data": {
      "application/vnd.jupyter.widget-view+json": {
       "model_id": "0bdf9f46042c42e0b95f836f25c16201",
       "version_major": 2,
       "version_minor": 0
      },
      "text/plain": [
       "interactive(children=(FloatSlider(value=0.0, description='eps', max=1.0, step=0.01), Button(description='Run I…"
      ]
     },
     "metadata": {},
     "output_type": "display_data"
    },
    {
     "data": {
      "text/plain": [
       "<function comparing_epsilons.run_experiment(m1: float, m2: float, m3: float, eps: float, N: int)>"
      ]
     },
     "execution_count": 4,
     "metadata": {},
     "output_type": "execute_result"
    }
   ],
   "source": [
    "bandit1_true_mean_reward = 1.0\n",
    "bandit2_true_mean_reward = 2.0\n",
    "bandit3_true_mean_reward = 3.0\n",
    "trials = 100000\n",
    "\n",
    "interact_manual(run_experiment, \n",
    "                 eps = (0, 1, 0.01), \n",
    "                 m1 = fixed(bandit1_true_mean_reward),\n",
    "                 m2 = fixed(bandit2_true_mean_reward),\n",
    "                 m3 = fixed(bandit3_true_mean_reward),\n",
    "                 N = fixed(trials)\n",
    ")"
   ]
  },
  {
   "cell_type": "markdown",
   "metadata": {},
   "source": [
    "**Conclusion**\n",
    "\n",
    "* The more you explore i.e. the higher the $\\epsilon$, the lower the cumulative reward (you won't converge to teh maximum theoratical reward)\n",
    "* The less you explore, the slower you converge to the maximum theoratical reward"
   ]
  }
 ],
 "metadata": {
  "kernelspec": {
   "display_name": "Python 3",
   "language": "python",
   "name": "python3"
  },
  "language_info": {
   "codemirror_mode": {
    "name": "ipython",
    "version": 3
   },
   "file_extension": ".py",
   "mimetype": "text/x-python",
   "name": "python",
   "nbconvert_exporter": "python",
   "pygments_lexer": "ipython3",
   "version": "3.7.6"
  }
 },
 "nbformat": 4,
 "nbformat_minor": 4
}
