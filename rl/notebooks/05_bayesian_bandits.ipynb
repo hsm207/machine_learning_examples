{
 "cells": [
  {
   "cell_type": "code",
   "execution_count": null,
   "metadata": {},
   "outputs": [],
   "source": [
    "%cd ..\n",
    "%load_ext autoreload\n",
    "%autoreload 2"
   ]
  },
  {
   "cell_type": "code",
   "execution_count": null,
   "metadata": {},
   "outputs": [],
   "source": [
    "from bayesian_bandit import *\n",
    "from ipywidgets import fixed, interact_manual"
   ]
  },
  {
   "cell_type": "markdown",
   "metadata": {},
   "source": [
    "In this example, we use Thompson sampling to identify and exploit the optimal bandit."
   ]
  },
  {
   "cell_type": "code",
   "execution_count": null,
   "metadata": {},
   "outputs": [],
   "source": [
    "bandit_probabilities = [0.2, 0.5, 1]\n",
    "\n",
    "interact_manual(experiment,\n",
    "                bandit_probabilities = fixed(bandit_probabilities),\n",
    "                num_trials = (0, 10000, 1))"
   ]
  },
  {
   "cell_type": "markdown",
   "metadata": {},
   "source": [
    "**Conclusion**\n",
    "* At the start, Thompson sampling assumes any reward rate (between 0 and 1) is equally likely for each bandit\n",
    "\n",
    "* As each hand is played, the distribution of reward rate for that hand is updated\n",
    "\n",
    "* Eventually, Thomson sampling converges to the optimal bandit with high certainty. The estimated reward for the non-optimal bandits will not converge to their respective true reward as they are played less often"
   ]
  }
 ],
 "metadata": {
  "kernelspec": {
   "display_name": "Python 3",
   "language": "python",
   "name": "python3"
  },
  "language_info": {
   "codemirror_mode": {
    "name": "ipython",
    "version": 3
   },
   "file_extension": ".py",
   "mimetype": "text/x-python",
   "name": "python",
   "nbconvert_exporter": "python",
   "pygments_lexer": "ipython3",
   "version": "3.7.6"
  }
 },
 "nbformat": 4,
 "nbformat_minor": 4
}
